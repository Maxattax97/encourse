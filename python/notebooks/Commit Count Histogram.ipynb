{
 "cells": [
  {
   "cell_type": "markdown",
   "metadata": {},
   "source": [
    "# Generating a Histogram of Student Commit Counts"
   ]
  },
  {
   "cell_type": "markdown",
   "metadata": {},
   "source": [
    "### Generate testing Data\n",
    "Here we generate a list of $n$ students $s_1, s_2, ..., s_n$, where each $s_i$ has a commit count $c_i$. Each $c_i$ falls in the range $0 \\leq c_i \\leq c_{max}$\n"
   ]
  },
  {
   "cell_type": "code",
   "execution_count": 14,
   "metadata": {},
   "outputs": [],
   "source": [
    "import numpy as np"
   ]
  },
  {
   "cell_type": "code",
   "execution_count": 15,
   "metadata": {},
   "outputs": [],
   "source": [
    "def generate_data(n, c_max):\n",
    "    data = np.random.randint(c_max+1, size=(n,1))\n",
    "    return data"
   ]
  },
  {
   "cell_type": "markdown",
   "metadata": {},
   "source": [
    "Next, we check the data generation to make sure it matches our specifications."
   ]
  },
  {
   "cell_type": "code",
   "execution_count": 16,
   "metadata": {},
   "outputs": [
    {
     "name": "stdout",
     "output_type": "stream",
     "text": [
      "[[ 83]\n",
      " [100]\n",
      " [ 10]\n",
      " [440]\n",
      " [159]\n",
      " [230]\n",
      " [109]\n",
      " [123]\n",
      " [422]\n",
      " [221]\n",
      " [ 21]\n",
      " [ 71]\n",
      " [200]\n",
      " [291]\n",
      " [ 47]\n",
      " [171]\n",
      " [277]\n",
      " [369]\n",
      " [179]\n",
      " [301]]\n"
     ]
    }
   ],
   "source": [
    "test_n = 20\n",
    "test_c_max = 500\n",
    "\n",
    "data = generate_data(test_n, test_c_max)\n",
    "print(data)"
   ]
  },
  {
   "cell_type": "code",
   "execution_count": null,
   "metadata": {},
   "outputs": [],
   "source": []
  }
 ],
 "metadata": {
  "kernelspec": {
   "display_name": "Python 3",
   "language": "python",
   "name": "python3"
  },
  "language_info": {
   "codemirror_mode": {
    "name": "ipython",
    "version": 3
   },
   "file_extension": ".py",
   "mimetype": "text/x-python",
   "name": "python",
   "nbconvert_exporter": "python",
   "pygments_lexer": "ipython3",
   "version": "3.6.5"
  }
 },
 "nbformat": 4,
 "nbformat_minor": 2
}
