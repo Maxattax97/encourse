{
 "cells": [
  {
   "cell_type": "markdown",
   "metadata": {},
   "source": [
    "# Generating Bar Graph for Average Test Case Scores"
   ]
  },
  {
   "cell_type": "markdown",
   "metadata": {},
   "source": [
    "### Generate Testing Data\n",
    "We start by generating a list of $t$ tests, each with a maximum $m$ in the range $1 \\leq m \\leq max_score$\n",
    "We use this set of $t$ test cases with maximums $m_1, m_2, ..., m_t$ to generate a data set of $n$ samples, each containing $t$ scores $s_1, s_2, ..., s_t$ , where $1 \\leq s_i \\leq m_i$"
   ]
  },
  {
   "cell_type": "code",
   "execution_count": 119,
   "metadata": {},
   "outputs": [],
   "source": [
    "import numpy as np"
   ]
  },
  {
   "cell_type": "code",
   "execution_count": 150,
   "metadata": {},
   "outputs": [],
   "source": [
    "def generate_data(n, t, max_score):\n",
    "    test_case_max_scores = np.random.randint(max_score+1, size=(t))\n",
    "    data = np.zeros((n,t))\n",
    "    for i in range(n):\n",
    "        for j in range(t):\n",
    "            data[i][j] = np.random.randint(test_case_max_scores[j]+1)\n",
    "    return data, test_case_max_scores"
   ]
  },
  {
   "cell_type": "markdown",
   "metadata": {},
   "source": [
    "Next, we print the test data. We can see that each column of values falls within the correct range given by the max scores"
   ]
  },
  {
   "cell_type": "code",
   "execution_count": 151,
   "metadata": {},
   "outputs": [
    {
     "name": "stdout",
     "output_type": "stream",
     "text": [
      "Max Scores: \n",
      " [22 23  8  7 11]\n",
      "Values: \n",
      " [[ 7. 20.  4.  3.  5.]\n",
      " [11. 17.  8.  3. 10.]\n",
      " [14. 12.  8.  7.  1.]\n",
      " [12. 15.  7.  0.  7.]\n",
      " [19.  5.  5.  3.  9.]\n",
      " [20. 13.  1.  1.  0.]\n",
      " [22.  3.  6.  3.  5.]\n",
      " [ 9. 16.  1.  0. 11.]\n",
      " [21.  3.  2.  6.  7.]\n",
      " [15. 12.  4.  3.  2.]\n",
      " [13. 12.  6.  5.  2.]\n",
      " [ 2.  8.  0.  7.  8.]\n",
      " [14. 14.  8.  5.  6.]\n",
      " [ 2. 10.  2.  0.  6.]\n",
      " [ 3. 12.  1.  6.  4.]\n",
      " [14. 17.  5.  4.  9.]\n",
      " [15. 19.  3.  0.  5.]\n",
      " [22. 19.  1.  6.  7.]\n",
      " [21.  0.  7.  1. 10.]\n",
      " [ 1. 15.  3.  4.  9.]]\n"
     ]
    }
   ],
   "source": [
    "test_n = 20\n",
    "test_t = 5\n",
    "test_max_score = 25\n",
    "\n",
    "data, max_scores = generate_data(test_n, test_t, test_max_score)\n",
    "print(\"Max Scores: \\n {}\".format(max_scores))\n",
    "print(\"Values: \\n {}\".format(data))"
   ]
  },
  {
   "cell_type": "markdown",
   "metadata": {},
   "source": [
    "Now we rearrange the data into a format that can be graphed in a bar graph\n",
    "This function generates $t$ buckets, one for each test case, where each bucket contains the average of the $n$ sample scores for that test"
   ]
  },
  {
   "cell_type": "code",
   "execution_count": 159,
   "metadata": {},
   "outputs": [
    {
     "name": "stdout",
     "output_type": "stream",
     "text": [
      "[12.85, 12.099999999999998, 4.1, 3.3499999999999996, 6.1499999999999995]\n"
     ]
    }
   ],
   "source": [
    "test_scores = [0]*test_t\n",
    "for entry in data:\n",
    "    for i,score in enumerate(entry):\n",
    "        test_scores[i] += score / test_n\n",
    "\n",
    "print(test_scores)"
   ]
  },
  {
   "cell_type": "markdown",
   "metadata": {},
   "source": [
    "### Graphing\n",
    "Finally, we graph the data in a format similar to that which will be used in the frontend UI. Each bar displays a gray bar denoting the maximum value for that test case, as well as a colored bar dentoing the average score for that test case."
   ]
  },
  {
   "cell_type": "code",
   "execution_count": 172,
   "metadata": {},
   "outputs": [
    {
     "data": {
      "image/png": "[encoded data removed]",
      "text/plain": [
       "<Figure size 432x288 with 1 Axes>"
      ]
     },
     "metadata": {},
     "output_type": "display_data"
    }
   ],
   "source": [
    "import matplotlib.pyplot as plt\n",
    "import random\n",
    "import math\n",
    "\n",
    "def random_hex_color():\n",
    "    values = ['0','1','2','3','4','5','6','7','8','9','a','b','c','d','e','f']\n",
    "    hex = \"#\"\n",
    "    for i in range(6):\n",
    "        index = random.randint(0,15)\n",
    "        hex += values[index]\n",
    "    return hex\n",
    "\n",
    "fig, ax = plt.subplots()\n",
    "max_bars = plt.bar(np.arange(1, test_t+1), max_scores)\n",
    "for bar in max_bars:\n",
    "    bar.set_color(\"#ededed\")\n",
    "bars = plt.bar(np.arange(1,test_t+1), test_scores)\n",
    "for bar in bars:\n",
    "    bar.set_color(random_hex_color())\n",
    "ax.set_xticks(np.arange(1,len(bars)+1))\n",
    "ax.set_xticklabels([\"Test {}\".format(i+1) for i in range(len(bars))])\n",
    "y_max = math.ceil(max(max_scores) / 5) * 5\n",
    "ax.set_ylim([0, y_max])\n",
    "ax.set_ylabel('Average Score')\n",
    "ax.set_title('Test Case Scores')\n",
    "save_fig = plt.gcf()    # Used later for saving the figure\n",
    "plt.show(block=False)\n"
   ]
  },
  {
   "cell_type": "markdown",
   "metadata": {},
   "source": [
    "It would be cool if we could display these graphs on a testing page, to help the frontend team know if they are displaying the data correctly. To do that, we can save these images as png files, and host them on the web server. Ideally, the graph corresponding to the *most recent* data will always be on display."
   ]
  },
  {
   "cell_type": "code",
   "execution_count": 177,
   "metadata": {},
   "outputs": [],
   "source": [
    "import subprocess\n",
    "import shlex\n",
    "fname='img/test2.png'\n",
    "save_fig.savefig(fname)"
   ]
  },
  {
   "cell_type": "markdown",
   "metadata": {},
   "source": [
    "Now we display the saved graph:\n",
    "![title](img/test.png)"
   ]
  },
  {
   "cell_type": "code",
   "execution_count": null,
   "metadata": {},
   "outputs": [],
   "source": []
  }
 ],
 "metadata": {
  "kernelspec": {
   "display_name": "Python 3",
   "language": "python",
   "name": "python3"
  },
  "language_info": {
   "codemirror_mode": {
    "name": "ipython",
    "version": 3
   },
   "file_extension": ".py",
   "mimetype": "text/x-python",
   "name": "python",
   "nbconvert_exporter": "python",
   "pygments_lexer": "ipython3",
   "version": "3.6.5"
  }
 },
 "nbformat": 4,
 "nbformat_minor": 2
}
