{
 "cells": [
  {
   "cell_type": "code",
   "execution_count": 5,
   "metadata": {},
   "outputs": [],
   "source": [
    "import numpy as np"
   ]
  },
  {
   "cell_type": "code",
   "execution_count": 15,
   "metadata": {},
   "outputs": [],
   "source": [
    "# Generate testing data\n",
    "# n - number of samples\n",
    "# t - number of test cases\n",
    "def generate_data(n, t):\n",
    "    data = np.array((n,t))\n",
    "    data = np.random.uniform(0,1,size=(n,t))\n",
    "    return data\n"
   ]
  },
  {
   "cell_type": "code",
   "execution_count": 14,
   "metadata": {},
   "outputs": [
    {
     "name": "stdout",
     "output_type": "stream",
     "text": [
      "[[0.30385787 0.95044865 0.19642441]\n",
      " [0.5557955  0.50262977 0.83784071]\n",
      " [0.85394159 0.1611368  0.67701852]\n",
      " [0.66537805 0.53381595 0.65640243]\n",
      " [0.72303658 0.47988295 0.61995466]\n",
      " [0.40070834 0.20455183 0.60746958]\n",
      " [0.27491959 0.05988218 0.8895766 ]\n",
      " [0.40417395 0.88994618 0.34810513]\n",
      " [0.5272784  0.67591429 0.04168524]\n",
      " [0.88380949 0.47481258 0.50960703]]\n"
     ]
    }
   ],
   "source": [
    "# Show data\n",
    "test_n = 10\n",
    "test_t = 3\n",
    "print(generate_data(test_n,test_t))"
   ]
  },
  {
   "cell_type": "code",
   "execution_count": null,
   "metadata": {},
   "outputs": [],
   "source": [
    "# Graph data, similar to the graph to be displayed on the front end\n"
   ]
  }
 ],
 "metadata": {
  "kernelspec": {
   "display_name": "Python 3",
   "language": "python",
   "name": "python3"
  },
  "language_info": {
   "codemirror_mode": {
    "name": "ipython",
    "version": 3
   },
   "file_extension": ".py",
   "mimetype": "text/x-python",
   "name": "python",
   "nbconvert_exporter": "python",
   "pygments_lexer": "ipython3",
   "version": "3.6.5"
  }
 },
 "nbformat": 4,
 "nbformat_minor": 2
}
